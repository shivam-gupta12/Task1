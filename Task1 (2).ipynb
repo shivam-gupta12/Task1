{
 "cells": [
  {
   "cell_type": "code",
   "execution_count": 19,
   "id": "ed36de1a-b62f-4521-836b-756ee57adf7c",
   "metadata": {},
   "outputs": [
    {
     "data": {
      "text/plain": [
       "4134711838987085478833841242112000"
      ]
     },
     "execution_count": 19,
     "metadata": {},
     "output_type": "execute_result"
    }
   ],
   "source": [
    "#question1\n",
    "from functools import reduce\n",
    "\n",
    "list1=[]\n",
    "list2=[1,2,3,4, [44,55,66, True], False, (34,56,78,89,34), {1,2,3,3,2,1}, {1:34, \"key2\": [55, 67, 78, 89], 4: (45, 22, 61, 34)}, \n",
    "    [56, 'data science'], 'Machine Learning']\n",
    "\n",
    "def flat_list(l2):\n",
    "    l1=[]\n",
    "    for i in l2:\n",
    "        if type(i)==list:\n",
    "            for j in i:\n",
    "                if type(j)==int:\n",
    "                    l1.append(j)\n",
    "                    \n",
    "        elif type(i)==dict:\n",
    "            for k in i.keys():\n",
    "                if type(k)==int:\n",
    "                    l1.append(k)\n",
    "            for l in i.values():\n",
    "                if type(l)==int:\n",
    "                    l1.append(l)\n",
    "                elif type(l)==tuple:\n",
    "                    for i in l:\n",
    "                        l1.append(i)\n",
    "                else:\n",
    "                    for i in l:\n",
    "                        l1.append(i)\n",
    "                    \n",
    "        elif type(i)==tuple:\n",
    "            for m in i:\n",
    "                l1.append(m)\n",
    "                \n",
    "        elif type(i)==set:\n",
    "            for n in i:\n",
    "                l1.append(n)\n",
    "                    \n",
    "        else:\n",
    "            if type(i)==int:\n",
    "                l1.append(i)\n",
    "    return l1\n",
    "\n",
    "reduce(lambda x,y : x*y , flat_list(list2))"
   ]
  },
  {
   "cell_type": "code",
   "execution_count": 20,
   "id": "f5f21e49-1d6b-44d5-b27e-4513bdfa045a",
   "metadata": {},
   "outputs": [
    {
     "data": {
      "text/plain": [
       "[1,\n",
       " 2,\n",
       " 3,\n",
       " 4,\n",
       " 44,\n",
       " 55,\n",
       " 66,\n",
       " 34,\n",
       " 56,\n",
       " 78,\n",
       " 89,\n",
       " 34,\n",
       " 1,\n",
       " 2,\n",
       " 3,\n",
       " 1,\n",
       " 4,\n",
       " 34,\n",
       " 55,\n",
       " 67,\n",
       " 78,\n",
       " 89,\n",
       " 45,\n",
       " 22,\n",
       " 61,\n",
       " 34,\n",
       " 56]"
      ]
     },
     "execution_count": 20,
     "metadata": {},
     "output_type": "execute_result"
    }
   ],
   "source": [
    "flat_list(list2)"
   ]
  },
  {
   "cell_type": "code",
   "execution_count": 75,
   "id": "207c3b78-dd12-444c-9258-354207e2ffb3",
   "metadata": {},
   "outputs": [
    {
     "name": "stdout",
     "output_type": "stream",
     "text": [
      "i$want$to$become$a$data$scientist."
     ]
    }
   ],
   "source": [
    "#question 2\n",
    "\n",
    "alphabets=\"abcdefghijklmnopqrstuvwxyz\"\n",
    "\n",
    "def Encryption(string):\n",
    "    lower_string=string.lower()\n",
    "    for i in lower_string:\n",
    "        if i==' ':\n",
    "            print('$',end='')\n",
    "        elif i=='char':\n",
    "            j=alphabets.find(i)\n",
    "            print(alphabets[25-j],end='')\n",
    "        else:\n",
    "            print(i,end='')\n",
    "    \n",
    "    \n",
    "string=\"I want to become a Data Scientist.\"\n",
    "Encryption(string)"
   ]
  },
  {
   "cell_type": "code",
   "execution_count": null,
   "id": "1f6a7983-e852-4cc4-99c1-6b17b9026596",
   "metadata": {},
   "outputs": [],
   "source": []
  }
 ],
 "metadata": {
  "kernelspec": {
   "display_name": "Python 3 (ipykernel)",
   "language": "python",
   "name": "python3"
  },
  "language_info": {
   "codemirror_mode": {
    "name": "ipython",
    "version": 3
   },
   "file_extension": ".py",
   "mimetype": "text/x-python",
   "name": "python",
   "nbconvert_exporter": "python",
   "pygments_lexer": "ipython3",
   "version": "3.10.8"
  }
 },
 "nbformat": 4,
 "nbformat_minor": 5
}
